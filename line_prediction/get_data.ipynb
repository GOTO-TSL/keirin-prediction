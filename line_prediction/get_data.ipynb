{
 "cells": [
  {
   "cell_type": "markdown",
   "metadata": {},
   "source": [
    "# ライン情報と選手の脚質を取得する"
   ]
  },
  {
   "cell_type": "markdown",
   "metadata": {},
   "source": [
    "## 取得元: WinTicket"
   ]
  },
  {
   "cell_type": "code",
   "execution_count": 2,
   "metadata": {},
   "outputs": [],
   "source": [
    "import requests\n",
    "from bs4 import BeautifulSoup\n",
    "import pandas as pd"
   ]
  },
  {
   "cell_type": "code",
   "execution_count": 3,
   "metadata": {},
   "outputs": [],
   "source": [
    "# racecard_url = \"https://www.winticket.jp/keirin/iwakidaira/racecard/2021011313/1/1\"\n",
    "# raceresult_url = \"https://www.winticket.jp/keirin/yokkaichi/raceresult/2022010448/3/8\"\n",
    "# req = requests.get(raceresult_url)\n",
    "# soup = BeautifulSoup(req.content, 'html.parser')"
   ]
  },
  {
   "cell_type": "markdown",
   "metadata": {},
   "source": [
    "### 日程を与えるとその日開催されたレースのURLをリストで返す関数"
   ]
  },
  {
   "cell_type": "code",
   "execution_count": 4,
   "metadata": {},
   "outputs": [],
   "source": [
    "def get_urls(year, month, day):\n",
    "    url = \"https://www.winticket.jp/keirin/racecard/\" + str(year) + str(month).zfill(2) + str(day).zfill(2)\n",
    "    req = requests.get(url)\n",
    "    soup = BeautifulSoup(req.content, 'html.parser')\n",
    "    url_soup = soup.find_all('a', rel='nofollow')\n",
    "    urls = [i.get('href') for i in url_soup]\n",
    "    return urls"
   ]
  },
  {
   "cell_type": "markdown",
   "metadata": {},
   "source": [
    " ### urlを与えると脚質のデータフレームを返す関数"
   ]
  },
  {
   "cell_type": "code",
   "execution_count": 5,
   "metadata": {},
   "outputs": [],
   "source": [
    "def create_legtype_table(url):\n",
    "    race_tables = pd.read_html(url)\n",
    "    legtype_table = race_tables[1][['車', '脚']].rename(columns={'車':'no', '脚':'leg'}).droplevel(1, axis=1)\n",
    "    return legtype_table"
   ]
  },
  {
   "cell_type": "markdown",
   "metadata": {},
   "source": [
    "### htmlを与えるとライン情報のデータフレームを返す関数"
   ]
  },
  {
   "cell_type": "code",
   "execution_count": 44,
   "metadata": {},
   "outputs": [],
   "source": [
    "def create_line_table(html, number_of_people):\n",
    "    line_soup = html.find_all(\"div\", class_=\"sc-1y958x7-0\")\n",
    "    line_text = [i.text for i in line_soup][0]\n",
    "    lines = line_text.split('区切り')\n",
    "\n",
    "    line_data = [[0 for j in range(number_of_people)] for i in range(3)]\n",
    "    for n, i in enumerate(lines):\n",
    "        people = len(i)\n",
    "        for k, j in enumerate(i):\n",
    "            index = int(j) - 1\n",
    "            line_data[0][index] = people\n",
    "            line_data[1][index] = n\n",
    "            line_data[2][index] = k\n",
    "    line_data.insert(0, [i+1 for i in range(number_of_people)])\n",
    "    df = pd.DataFrame({'no':line_data[0],\n",
    "                       'people':line_data[1],\n",
    "                       'group':line_data[2],\n",
    "                       'number':line_data[3]})\n",
    "    return df"
   ]
  },
  {
   "cell_type": "markdown",
   "metadata": {},
   "source": [
    "### urlを与えると着順のデータフレームを返す関数"
   ]
  },
  {
   "cell_type": "code",
   "execution_count": 45,
   "metadata": {},
   "outputs": [],
   "source": [
    "def create_result_table(url):\n",
    "    result_tables = pd.read_html(url)\n",
    "    result_table = result_tables[0][['着','車']].rename(columns={'着':'no', '車':'result'})\n",
    "    return result_table"
   ]
  },
  {
   "cell_type": "markdown",
   "metadata": {},
   "source": [
    "### エラー検証用"
   ]
  },
  {
   "cell_type": "code",
   "execution_count": 37,
   "metadata": {},
   "outputs": [
    {
     "data": {
      "text/plain": [
       "2"
      ]
     },
     "execution_count": 37,
     "metadata": {},
     "output_type": "execute_result"
    }
   ],
   "source": [
    "err_url = \"https://www.winticket.jp/keirin/iwakidaira/raceresult/2021011313/1/2\"\n",
    "crr_url = \"https://www.winticket.jp/keirin/yokkaichi/raceresult/2022010448/3/8\"\n",
    "result_table = pd.read_html(crr_url)\n",
    "len(result_table)"
   ]
  },
  {
   "cell_type": "markdown",
   "metadata": {},
   "source": [
    "## ここからメイン"
   ]
  },
  {
   "cell_type": "code",
   "execution_count": 8,
   "metadata": {},
   "outputs": [],
   "source": [
    "import time\n",
    "import traceback\n",
    "from tqdm import tqdm"
   ]
  },
  {
   "cell_type": "markdown",
   "metadata": {},
   "source": [
    "1. レース情報が乗っているページのURLを取得"
   ]
  },
  {
   "cell_type": "code",
   "execution_count": 20,
   "metadata": {},
   "outputs": [
    {
     "name": "stderr",
     "output_type": "stream",
     "text": [
      "100%|██████████| 31/31 [00:42<00:00,  1.38s/it]\n",
      "100%|██████████| 31/31 [00:41<00:00,  1.33s/it]\n",
      "100%|██████████| 31/31 [00:42<00:00,  1.36s/it]\n",
      "100%|██████████| 31/31 [00:43<00:00,  1.40s/it]\n",
      "100%|██████████| 31/31 [00:41<00:00,  1.33s/it]\n",
      "100%|██████████| 31/31 [00:40<00:00,  1.32s/it]\n",
      "100%|██████████| 31/31 [00:41<00:00,  1.33s/it]\n",
      "100%|██████████| 31/31 [00:39<00:00,  1.27s/it]\n",
      "100%|██████████| 31/31 [00:42<00:00,  1.38s/it]\n",
      "100%|██████████| 31/31 [00:41<00:00,  1.33s/it]\n",
      "100%|██████████| 31/31 [00:41<00:00,  1.35s/it]\n",
      "100%|██████████| 31/31 [00:41<00:00,  1.34s/it]\n"
     ]
    }
   ],
   "source": [
    "race_urls = []\n",
    "for year in range(2021, 2022):\n",
    "    for month in range(1, 13):\n",
    "        for day in tqdm(range(1, 32)):\n",
    "            race_urls.extend(get_urls(year, month, day))\n",
    "            time.sleep(1)"
   ]
  },
  {
   "cell_type": "markdown",
   "metadata": {},
   "source": [
    "2. URLにアクセスして各種データを取得"
   ]
  },
  {
   "cell_type": "code",
   "execution_count": 51,
   "metadata": {},
   "outputs": [
    {
     "name": "stderr",
     "output_type": "stream",
     "text": [
      "  5%|▌         | 1334/25861 [30:10<9:14:54,  1.36s/it] "
     ]
    },
    {
     "name": "stdout",
     "output_type": "stream",
     "text": [
      "/keirin/nagoya/racecard/2021011842/1/2\n",
      "Traceback (most recent call last):\n",
      "  File \"/var/folders/5k/dbf5r6hd78g1f0z7svt8m25m0000gn/T/ipykernel_5524/2111927673.py\", line 27, in <module>\n",
      "    result_table = create_result_table(raceresult_url)\n",
      "  File \"/var/folders/5k/dbf5r6hd78g1f0z7svt8m25m0000gn/T/ipykernel_5524/2592039674.py\", line 2, in create_result_table\n",
      "    result_tables = pd.read_html(url)\n",
      "  File \"/opt/anaconda3/envs/keirin_prediction/lib/python3.7/site-packages/pandas/util/_decorators.py\", line 299, in wrapper\n",
      "    return func(*args, **kwargs)\n",
      "  File \"/opt/anaconda3/envs/keirin_prediction/lib/python3.7/site-packages/pandas/io/html.py\", line 1100, in read_html\n",
      "    displayed_only=displayed_only,\n",
      "  File \"/opt/anaconda3/envs/keirin_prediction/lib/python3.7/site-packages/pandas/io/html.py\", line 893, in _parse\n",
      "    tables = p.parse_tables()\n",
      "  File \"/opt/anaconda3/envs/keirin_prediction/lib/python3.7/site-packages/pandas/io/html.py\", line 213, in parse_tables\n",
      "    tables = self._parse_tables(self._build_doc(), self.match, self.attrs)\n",
      "  File \"/opt/anaconda3/envs/keirin_prediction/lib/python3.7/site-packages/pandas/io/html.py\", line 713, in _build_doc\n",
      "    with urlopen(self.io) as f:\n",
      "  File \"/opt/anaconda3/envs/keirin_prediction/lib/python3.7/site-packages/pandas/io/common.py\", line 195, in urlopen\n",
      "    return urllib.request.urlopen(*args, **kwargs)\n",
      "  File \"/opt/anaconda3/envs/keirin_prediction/lib/python3.7/urllib/request.py\", line 222, in urlopen\n",
      "    return opener.open(url, data, timeout)\n",
      "  File \"/opt/anaconda3/envs/keirin_prediction/lib/python3.7/urllib/request.py\", line 525, in open\n",
      "    response = self._open(req, data)\n",
      "  File \"/opt/anaconda3/envs/keirin_prediction/lib/python3.7/urllib/request.py\", line 543, in _open\n",
      "    '_open', req)\n",
      "  File \"/opt/anaconda3/envs/keirin_prediction/lib/python3.7/urllib/request.py\", line 503, in _call_chain\n",
      "    result = func(*args)\n",
      "  File \"/opt/anaconda3/envs/keirin_prediction/lib/python3.7/urllib/request.py\", line 1393, in https_open\n",
      "    context=self._context, check_hostname=self._check_hostname)\n",
      "  File \"/opt/anaconda3/envs/keirin_prediction/lib/python3.7/urllib/request.py\", line 1353, in do_open\n",
      "    r = h.getresponse()\n",
      "  File \"/opt/anaconda3/envs/keirin_prediction/lib/python3.7/http/client.py\", line 1369, in getresponse\n",
      "    response.begin()\n",
      "  File \"/opt/anaconda3/envs/keirin_prediction/lib/python3.7/http/client.py\", line 310, in begin\n",
      "    version, status, reason = self._read_status()\n",
      "  File \"/opt/anaconda3/envs/keirin_prediction/lib/python3.7/http/client.py\", line 271, in _read_status\n",
      "    line = str(self.fp.readline(_MAXLINE + 1), \"iso-8859-1\")\n",
      "  File \"/opt/anaconda3/envs/keirin_prediction/lib/python3.7/socket.py\", line 589, in readinto\n",
      "    return self._sock.recv_into(b)\n",
      "  File \"/opt/anaconda3/envs/keirin_prediction/lib/python3.7/ssl.py\", line 1071, in recv_into\n",
      "    return self.read(nbytes, buffer)\n",
      "  File \"/opt/anaconda3/envs/keirin_prediction/lib/python3.7/ssl.py\", line 929, in read\n",
      "    return self._sslobj.read(len, buffer)\n",
      "KeyboardInterrupt\n",
      "\n"
     ]
    },
    {
     "name": "stderr",
     "output_type": "stream",
     "text": [
      "\n"
     ]
    }
   ],
   "source": [
    "# race_data_7 = pd.DataFrame()\n",
    "# race_data_9 = pd.DataFrame()\n",
    "race_data_7 = pd.read_pickle('../data/line_data_7.pkl')\n",
    "race_data_9 = pd.read_pickle('../data/line_data_9.pkl')\n",
    "\n",
    "for url in tqdm(race_urls):\n",
    "    #レースIDの設定\n",
    "    split_url = url.split('/')\n",
    "    race_id = split_url[4] + \"/\" + split_url[5] + \"/\" + split_url[6]\n",
    "\n",
    "    if (race_id in race_data_7.index) or (race_id in race_data_9.index):\n",
    "        continue\n",
    "\n",
    "    try:\n",
    "        racecard_url = \"https://www.winticket.jp\" + url\n",
    "        legtype_table = create_legtype_table(racecard_url)\n",
    "        time.sleep(1)\n",
    "\n",
    "        number_of_people = len(legtype_table)\n",
    "\n",
    "        req = requests.get(racecard_url)\n",
    "        soup = BeautifulSoup(req.content, 'html.parser')\n",
    "        line_table = create_line_table(soup, number_of_people)\n",
    "        time.sleep(1)\n",
    "\n",
    "        raceresult_url = racecard_url.replace(\"racecard\", \"raceresult\")\n",
    "        result_table = create_result_table(raceresult_url)\n",
    "        time.sleep(1)\n",
    "\n",
    "        #dfの作成，結合\n",
    "        df = pd.concat([legtype_table, line_table, result_table], axis=1)\n",
    "        df = df.loc[:,~df.columns.duplicated()]\n",
    "\n",
    "        df.index = [race_id for i in range(len(df))]\n",
    "\n",
    "        if number_of_people == 7:\n",
    "            race_data_7 = pd.concat([race_data_7, df])\n",
    "        elif number_of_people == 9:\n",
    "            race_data_9 = pd.concat([race_data_9, df])\n",
    "        else:\n",
    "            continue\n",
    "    except ValueError:\n",
    "        continue\n",
    "    except KeyError:\n",
    "        continue\n",
    "    except:\n",
    "        print(url)\n",
    "        print(traceback.format_exc())\n",
    "        break"
   ]
  },
  {
   "cell_type": "markdown",
   "metadata": {},
   "source": [
    "3. データを保存"
   ]
  },
  {
   "cell_type": "code",
   "execution_count": 52,
   "metadata": {},
   "outputs": [],
   "source": [
    "race_data_7.to_pickle('../data/line_data_7.pkl')\n",
    "race_data_9.to_pickle('../data/line_data_9.pkl')"
   ]
  },
  {
   "cell_type": "code",
   "execution_count": null,
   "metadata": {},
   "outputs": [],
   "source": []
  }
 ],
 "metadata": {
  "interpreter": {
   "hash": "9ea3eeac9e68bc0e3f703f37c7e2955c9932483a506e1740cfbadba66422ad64"
  },
  "kernelspec": {
   "display_name": "Python 3.9.7 64-bit ('keirin_prediction': conda)",
   "language": "python",
   "name": "python3"
  },
  "language_info": {
   "codemirror_mode": {
    "name": "ipython",
    "version": 3
   },
   "file_extension": ".py",
   "mimetype": "text/x-python",
   "name": "python",
   "nbconvert_exporter": "python",
   "pygments_lexer": "ipython3",
   "version": "3.7.9"
  },
  "orig_nbformat": 4
 },
 "nbformat": 4,
 "nbformat_minor": 2
}
