{
 "cells": [
  {
   "cell_type": "markdown",
   "metadata": {},
   "source": [
    "# 学習モデルを作成するノート"
   ]
  },
  {
   "cell_type": "code",
   "execution_count": 1,
   "metadata": {},
   "outputs": [
    {
     "name": "stderr",
     "output_type": "stream",
     "text": [
      "Using TensorFlow backend.\n"
     ]
    }
   ],
   "source": [
    "from sklearn.model_selection import train_test_split\n",
    "from keras.models import Sequential\n",
    "from keras.layers import Dense, Activation\n",
    "from keras.utils import np_utils\n",
    "import numpy as np\n",
    "import pandas as pd\n",
    "import matplotlib.pyplot as plt"
   ]
  },
  {
   "cell_type": "markdown",
   "metadata": {},
   "source": [
    "### データを読み込む"
   ]
  },
  {
   "cell_type": "code",
   "execution_count": 12,
   "metadata": {},
   "outputs": [],
   "source": [
    "line_data_7x = pd.read_pickle('../data/line_data_7x.pkl')\n",
    "line_data_7y = pd.read_pickle('../data/line_data_7y.pkl')"
   ]
  },
  {
   "cell_type": "code",
   "execution_count": 16,
   "metadata": {},
   "outputs": [
    {
     "data": {
      "text/plain": [
       "6"
      ]
     },
     "execution_count": 16,
     "metadata": {},
     "output_type": "execute_result"
    }
   ],
   "source": [
    "len(line_data_7x.columns)"
   ]
  },
  {
   "cell_type": "markdown",
   "metadata": {},
   "source": [
    "### 学習データとテストデータに分割"
   ]
  },
  {
   "cell_type": "code",
   "execution_count": 3,
   "metadata": {},
   "outputs": [],
   "source": [
    "x_train, x_test, y_train, y_test = train_test_split(line_data_7x, line_data_7y, train_size=0.7)"
   ]
  },
  {
   "cell_type": "code",
   "execution_count": 17,
   "metadata": {},
   "outputs": [],
   "source": [
    "def learningModel(dim_1, dim_2, dim_3, batch_size, epochs):\n",
    "    n_in = len(line_data_7x.columns)  # 入力層のニューロン数：特徴量の数\n",
    "    n_out = 7 # 出力層のニューロン数： 二値分類なので１\n",
    "\n",
    "    # 入力層、中間層、出力層の３層のニューラルネットワークを構築する\n",
    "    model = Sequential()\n",
    "\n",
    "    #中間層を追加する。最初に層を追加するときはinput_shapeを設定すること。\n",
    "    #input_shapeのところには形状を入れるため\n",
    "    # 活性化関数にrelu関数\n",
    "    model.add(Dense(dim_1, input_dim=n_in, activation=\"relu\"))\n",
    "    model.add(Dense(dim_2, input_dim=dim_1, activation=\"relu\"))\n",
    "    model.add(Dense(dim_3, input_dim=dim_2, activation=\"relu\"))\n",
    "\n",
    "    #出力層を追加する\n",
    "    model.add(Dense(n_out, activation=\"softmax\"))  \n",
    "\n",
    "    # 損失関数にクロスエントロピー誤差、最適化アルゴリズムにRMSpropを使用する\n",
    "    model.compile(loss=\"categorical_crossentropy\", optimizer=\"rmsprop\", metrics=[\"accuracy\"])  \n",
    "\n",
    "    #学習開始\n",
    "    history = model.fit(x_train, y_train, batch_size=batch_size, epochs=epochs)\n",
    "    score, accuracy = model.evaluate(x_test, y_test, batch_size=batch_size)\n",
    "    print(\"Test score\", score)\n",
    "    print(\"Test accuracy\", accuracy)\n",
    "    return [model, history, score, accuracy]"
   ]
  },
  {
   "cell_type": "code",
   "execution_count": 20,
   "metadata": {},
   "outputs": [
    {
     "name": "stdout",
     "output_type": "stream",
     "text": [
      "Epoch 1/50\n",
      "372/372 [==============================] - 0s 1ms/step - loss: 1.9665 - accuracy: 0.1290\n",
      "Epoch 2/50\n",
      "372/372 [==============================] - 0s 20us/step - loss: 1.9577 - accuracy: 0.1290\n",
      "Epoch 3/50\n",
      "372/372 [==============================] - 0s 24us/step - loss: 1.9530 - accuracy: 0.1425\n",
      "Epoch 4/50\n",
      "372/372 [==============================] - 0s 27us/step - loss: 1.9497 - accuracy: 0.1344\n",
      "Epoch 5/50\n",
      "372/372 [==============================] - 0s 31us/step - loss: 1.9471 - accuracy: 0.1317\n",
      "Epoch 6/50\n",
      "372/372 [==============================] - 0s 38us/step - loss: 1.9451 - accuracy: 0.1532\n",
      "Epoch 7/50\n",
      "372/372 [==============================] - 0s 27us/step - loss: 1.9438 - accuracy: 0.1559\n",
      "Epoch 8/50\n",
      "372/372 [==============================] - 0s 26us/step - loss: 1.9424 - accuracy: 0.1613\n",
      "Epoch 9/50\n",
      "372/372 [==============================] - 0s 28us/step - loss: 1.9416 - accuracy: 0.1532\n",
      "Epoch 10/50\n",
      "372/372 [==============================] - 0s 28us/step - loss: 1.9402 - accuracy: 0.1586\n",
      "Epoch 11/50\n",
      "372/372 [==============================] - 0s 27us/step - loss: 1.9393 - accuracy: 0.1613\n",
      "Epoch 12/50\n",
      "372/372 [==============================] - 0s 24us/step - loss: 1.9383 - accuracy: 0.1640\n",
      "Epoch 13/50\n",
      "372/372 [==============================] - 0s 30us/step - loss: 1.9374 - accuracy: 0.1640\n",
      "Epoch 14/50\n",
      "372/372 [==============================] - 0s 26us/step - loss: 1.9365 - accuracy: 0.1613\n",
      "Epoch 15/50\n",
      "372/372 [==============================] - 0s 25us/step - loss: 1.9359 - accuracy: 0.1935\n",
      "Epoch 16/50\n",
      "372/372 [==============================] - 0s 26us/step - loss: 1.9350 - accuracy: 0.2016\n",
      "Epoch 17/50\n",
      "372/372 [==============================] - 0s 26us/step - loss: 1.9344 - accuracy: 0.2043\n",
      "Epoch 18/50\n",
      "372/372 [==============================] - 0s 27us/step - loss: 1.9338 - accuracy: 0.2070\n",
      "Epoch 19/50\n",
      "372/372 [==============================] - 0s 30us/step - loss: 1.9332 - accuracy: 0.1989\n",
      "Epoch 20/50\n",
      "372/372 [==============================] - 0s 29us/step - loss: 1.9326 - accuracy: 0.1909\n",
      "Epoch 21/50\n",
      "372/372 [==============================] - 0s 25us/step - loss: 1.9321 - accuracy: 0.1935\n",
      "Epoch 22/50\n",
      "372/372 [==============================] - 0s 27us/step - loss: 1.9319 - accuracy: 0.1935\n",
      "Epoch 23/50\n",
      "372/372 [==============================] - 0s 31us/step - loss: 1.9310 - accuracy: 0.1935\n",
      "Epoch 24/50\n",
      "372/372 [==============================] - 0s 26us/step - loss: 1.9306 - accuracy: 0.2016\n",
      "Epoch 25/50\n",
      "372/372 [==============================] - 0s 36us/step - loss: 1.9303 - accuracy: 0.2016\n",
      "Epoch 26/50\n",
      "372/372 [==============================] - 0s 30us/step - loss: 1.9299 - accuracy: 0.1989\n",
      "Epoch 27/50\n",
      "372/372 [==============================] - 0s 26us/step - loss: 1.9296 - accuracy: 0.1909\n",
      "Epoch 28/50\n",
      "372/372 [==============================] - 0s 28us/step - loss: 1.9292 - accuracy: 0.2016\n",
      "Epoch 29/50\n",
      "372/372 [==============================] - 0s 31us/step - loss: 1.9287 - accuracy: 0.2016\n",
      "Epoch 30/50\n",
      "372/372 [==============================] - 0s 27us/step - loss: 1.9284 - accuracy: 0.1989\n",
      "Epoch 31/50\n",
      "372/372 [==============================] - 0s 23us/step - loss: 1.9279 - accuracy: 0.2043\n",
      "Epoch 32/50\n",
      "372/372 [==============================] - 0s 22us/step - loss: 1.9274 - accuracy: 0.1882\n",
      "Epoch 33/50\n",
      "372/372 [==============================] - 0s 27us/step - loss: 1.9273 - accuracy: 0.1935\n",
      "Epoch 34/50\n",
      "372/372 [==============================] - 0s 36us/step - loss: 1.9270 - accuracy: 0.1962\n",
      "Epoch 35/50\n",
      "372/372 [==============================] - 0s 25us/step - loss: 1.9265 - accuracy: 0.1882\n",
      "Epoch 36/50\n",
      "372/372 [==============================] - 0s 22us/step - loss: 1.9262 - accuracy: 0.1962\n",
      "Epoch 37/50\n",
      "372/372 [==============================] - 0s 30us/step - loss: 1.9258 - accuracy: 0.1774\n",
      "Epoch 38/50\n",
      "372/372 [==============================] - 0s 26us/step - loss: 1.9254 - accuracy: 0.1962\n",
      "Epoch 39/50\n",
      "372/372 [==============================] - 0s 25us/step - loss: 1.9250 - accuracy: 0.1828\n",
      "Epoch 40/50\n",
      "372/372 [==============================] - 0s 23us/step - loss: 1.9246 - accuracy: 0.1935\n",
      "Epoch 41/50\n",
      "372/372 [==============================] - 0s 23us/step - loss: 1.9245 - accuracy: 0.1774\n",
      "Epoch 42/50\n",
      "372/372 [==============================] - 0s 28us/step - loss: 1.9240 - accuracy: 0.1828\n",
      "Epoch 43/50\n",
      "372/372 [==============================] - 0s 26us/step - loss: 1.9235 - accuracy: 0.1828\n",
      "Epoch 44/50\n",
      "372/372 [==============================] - 0s 27us/step - loss: 1.9233 - accuracy: 0.1882\n",
      "Epoch 45/50\n",
      "372/372 [==============================] - 0s 33us/step - loss: 1.9235 - accuracy: 0.1720\n",
      "Epoch 46/50\n",
      "372/372 [==============================] - 0s 26us/step - loss: 1.9228 - accuracy: 0.1828\n",
      "Epoch 47/50\n",
      "372/372 [==============================] - 0s 30us/step - loss: 1.9225 - accuracy: 0.1909\n",
      "Epoch 48/50\n",
      "372/372 [==============================] - 0s 32us/step - loss: 1.9221 - accuracy: 0.1801\n",
      "Epoch 49/50\n",
      "372/372 [==============================] - 0s 27us/step - loss: 1.9225 - accuracy: 0.1855\n",
      "Epoch 50/50\n",
      "372/372 [==============================] - 0s 27us/step - loss: 1.9221 - accuracy: 0.1935\n",
      "160/160 [==============================] - 0s 1ms/step\n",
      "Test score 1.9577248096466064\n",
      "Test accuracy 0.13750000298023224\n"
     ]
    }
   ],
   "source": [
    "model, history, score, accuracy = learningModel(20, 15, 10, 256, 50)"
   ]
  },
  {
   "cell_type": "code",
   "execution_count": null,
   "metadata": {},
   "outputs": [],
   "source": []
  }
 ],
 "metadata": {
  "interpreter": {
   "hash": "9ea3eeac9e68bc0e3f703f37c7e2955c9932483a506e1740cfbadba66422ad64"
  },
  "kernelspec": {
   "display_name": "Python 3.7.9 64-bit ('keirin_prediction': conda)",
   "language": "python",
   "name": "python3"
  },
  "language_info": {
   "codemirror_mode": {
    "name": "ipython",
    "version": 3
   },
   "file_extension": ".py",
   "mimetype": "text/x-python",
   "name": "python",
   "nbconvert_exporter": "python",
   "pygments_lexer": "ipython3",
   "version": "3.7.9"
  },
  "orig_nbformat": 4
 },
 "nbformat": 4,
 "nbformat_minor": 2
}
