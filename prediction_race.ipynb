{
 "cells": [
  {
   "cell_type": "markdown",
   "metadata": {},
   "source": [
    "# 学習モデルを使って実際のレース予想をする"
   ]
  },
  {
   "cell_type": "code",
   "execution_count": 143,
   "metadata": {},
   "outputs": [],
   "source": [
    "import pandas as pd\n",
    "from bs4 import BeautifulSoup\n",
    "import requests\n",
    "import time\n",
    "dfs = {}"
   ]
  },
  {
   "cell_type": "code",
   "execution_count": 331,
   "metadata": {},
   "outputs": [],
   "source": [
    "place = \"toride\"\n",
    "race = \"7\""
   ]
  },
  {
   "cell_type": "markdown",
   "metadata": {},
   "source": [
    "### 予想したいレースのURLを以下に入力　ここのサイトから選ぶ　https://keirin.kdreams.jp/"
   ]
  },
  {
   "cell_type": "code",
   "execution_count": 332,
   "metadata": {},
   "outputs": [],
   "source": [
    "url = \"https://keirin.kdreams.jp/\" + place + \"/racedetail/23202109090200\" + race.zfill(2) + \"/\""
   ]
  },
  {
   "cell_type": "code",
   "execution_count": 333,
   "metadata": {},
   "outputs": [],
   "source": [
    "columns = ['予想', '好気合', '総評', '枠番', '車番', '選手名府県/年齢/期別', '級班', '脚質', 'ギヤ倍数', '競走得点', '1着', '2着', '3着', '着外']"
   ]
  },
  {
   "cell_type": "markdown",
   "metadata": {},
   "source": [
    "### データを取ってくる"
   ]
  },
  {
   "cell_type": "code",
   "execution_count": 334,
   "metadata": {},
   "outputs": [],
   "source": [
    "race_data = pd.read_html(url)[4][:-1]\n",
    "race_data.columns = columns\n",
    "race_data = race_data.astype(str)\n",
    "time.sleep(1)"
   ]
  },
  {
   "cell_type": "markdown",
   "metadata": {},
   "source": [
    "### データを加工する"
   ]
  },
  {
   "cell_type": "code",
   "execution_count": 335,
   "metadata": {},
   "outputs": [],
   "source": [
    "race_data = pd.concat([race_data, race_data[\"選手名府県/年齢/期別\"].str.split(\"/\", expand=True)], axis=1).drop(\"選手名府県/年齢/期別\", axis=1)\n",
    "race_data = race_data.drop(0, axis=1)\n",
    "\n",
    "race_data[\"予想\"] = pd.Categorical(race_data[\"予想\"], categories=[\"nan\", \"×\", \"▲\", \"△\", \"○\", \"◎\", \"注\"])\n",
    "race_data[\"好気合\"] = pd.Categorical(race_data[\"好気合\"], categories=[\"★\"])\n",
    "race_data[\"脚質\"] = pd.Categorical(race_data[\"脚質\"], categories=[\"両\", \"追\", \"逃\"])\n",
    "race_data[\"級班\"] = pd.Categorical(race_data[\"級班\"], categories=[\"A1\", \"A2\", \"A3\", \"L1\", \"S1\", \"S2\", \"SS\"])\n",
    "\n",
    "prediction = pd.get_dummies(race_data[\"予想\"])\n",
    "isFine = pd.get_dummies(race_data[\"好気合\"])\n",
    "leg_type = pd.get_dummies(race_data[\"脚質\"])\n",
    "group = pd.get_dummies(race_data[\"級班\"])\n",
    "\n",
    "race_data = pd.concat([race_data, prediction, isFine, leg_type, group], axis=1).drop([\"予想\", \"好気合\", \"脚質\", \"級班\"], axis=1)\n",
    "race_data = race_data.replace([\"失\", \"落\", \"故\", \"欠\"], 9)\n",
    "race_data[\"ギヤ倍数\"] = race_data[\"ギヤ倍数\"].map(lambda x: x[:4] if len(x)>4 else x)\n",
    "race_data[2] = race_data[2].map(lambda x: x.replace(\" （欠車）\", \"\") if \"欠車\"in x else x)\n",
    "race_data = race_data.astype(\"float64\")\n",
    "def minmax_norm(columns):\n",
    "    df = race_data[columns]\n",
    "    for column in columns:\n",
    "        race_data[columns] = (df - df.min()) / (df.max() - df.min())\n",
    "\n",
    "minmax_columns = [\"総評\", \"ギヤ倍数\", \"競走得点\", \"1着\", \"2着\", \"3着\", \"着外\", 1, 2]\n",
    "minmax_norm(minmax_columns)\n",
    "race_data = race_data.loc[:, ['車番', '総評', '枠番', 'ギヤ倍数', '競走得点', '1着', '2着', '3着', '着外', 1, 2, 'nan', '×', '▲', '△', '○', '◎', '注', '★', '両', '追', '逃', 'A1', 'A2', 'A3', 'L1', 'S1', 'S2', 'SS']]"
   ]
  },
  {
   "cell_type": "markdown",
   "metadata": {},
   "source": [
    "### 学習済みモデルに入れて予想する"
   ]
  },
  {
   "cell_type": "code",
   "execution_count": 336,
   "metadata": {},
   "outputs": [],
   "source": [
    "import tensorflow as tf\n",
    "from tensorflow import keras"
   ]
  },
  {
   "cell_type": "code",
   "execution_count": 337,
   "metadata": {},
   "outputs": [],
   "source": [
    "model = tf.keras.models.load_model(\"pred_top3\")"
   ]
  },
  {
   "cell_type": "code",
   "execution_count": 338,
   "metadata": {},
   "outputs": [
    {
     "data": {
      "text/plain": [
       "(7, 29)"
      ]
     },
     "execution_count": 338,
     "metadata": {},
     "output_type": "execute_result"
    }
   ],
   "source": [
    "race_data.shape"
   ]
  },
  {
   "cell_type": "code",
   "execution_count": 339,
   "metadata": {},
   "outputs": [
    {
     "data": {
      "text/plain": [
       "array([[0.29137927],\n",
       "       [0.41249448],\n",
       "       [0.9104875 ],\n",
       "       [0.17039359],\n",
       "       [0.0523212 ],\n",
       "       [0.34340245],\n",
       "       [0.6724162 ]], dtype=float32)"
      ]
     },
     "execution_count": 339,
     "metadata": {},
     "output_type": "execute_result"
    }
   ],
   "source": [
    "results = model.predict(race_data)\n",
    "results"
   ]
  },
  {
   "cell_type": "code",
   "execution_count": 340,
   "metadata": {},
   "outputs": [],
   "source": [
    "import numpy as np\n",
    "def printResult(results):\n",
    "    new_results = []\n",
    "    for result in results:\n",
    "        new_results.append(result[0])\n",
    "        \n",
    "    sorted_result = np.argsort(new_results)\n",
    "    sorted_result = list(map(lambda x: x+1, sorted_result))\n",
    "    new_results = sorted(new_results)\n",
    "    return sorted_result[::-1], new_results[::-1]"
   ]
  },
  {
   "cell_type": "code",
   "execution_count": 341,
   "metadata": {},
   "outputs": [],
   "source": [
    "results, results_pred = printResult(results)"
   ]
  },
  {
   "cell_type": "code",
   "execution_count": 342,
   "metadata": {},
   "outputs": [],
   "source": [
    "df = pd.DataFrame(results_pred, results, columns=[\"3着以内の確率\"])"
   ]
  },
  {
   "cell_type": "code",
   "execution_count": 343,
   "metadata": {},
   "outputs": [
    {
     "data": {
      "text/html": [
       "<div>\n",
       "<style scoped>\n",
       "    .dataframe tbody tr th:only-of-type {\n",
       "        vertical-align: middle;\n",
       "    }\n",
       "\n",
       "    .dataframe tbody tr th {\n",
       "        vertical-align: top;\n",
       "    }\n",
       "\n",
       "    .dataframe thead th {\n",
       "        text-align: right;\n",
       "    }\n",
       "</style>\n",
       "<table border=\"1\" class=\"dataframe\">\n",
       "  <thead>\n",
       "    <tr style=\"text-align: right;\">\n",
       "      <th></th>\n",
       "      <th>3着以内の確率</th>\n",
       "    </tr>\n",
       "  </thead>\n",
       "  <tbody>\n",
       "    <tr>\n",
       "      <th>3</th>\n",
       "      <td>0.910487</td>\n",
       "    </tr>\n",
       "    <tr>\n",
       "      <th>7</th>\n",
       "      <td>0.672416</td>\n",
       "    </tr>\n",
       "    <tr>\n",
       "      <th>2</th>\n",
       "      <td>0.412494</td>\n",
       "    </tr>\n",
       "    <tr>\n",
       "      <th>6</th>\n",
       "      <td>0.343402</td>\n",
       "    </tr>\n",
       "    <tr>\n",
       "      <th>1</th>\n",
       "      <td>0.291379</td>\n",
       "    </tr>\n",
       "    <tr>\n",
       "      <th>4</th>\n",
       "      <td>0.170394</td>\n",
       "    </tr>\n",
       "    <tr>\n",
       "      <th>5</th>\n",
       "      <td>0.052321</td>\n",
       "    </tr>\n",
       "  </tbody>\n",
       "</table>\n",
       "</div>"
      ],
      "text/plain": [
       "    3着以内の確率\n",
       "3  0.910487\n",
       "7  0.672416\n",
       "2  0.412494\n",
       "6  0.343402\n",
       "1  0.291379\n",
       "4  0.170394\n",
       "5  0.052321"
      ]
     },
     "execution_count": 343,
     "metadata": {},
     "output_type": "execute_result"
    }
   ],
   "source": [
    "df"
   ]
  },
  {
   "cell_type": "code",
   "execution_count": 344,
   "metadata": {},
   "outputs": [],
   "source": [
    "dfs[place+race] = df"
   ]
  },
  {
   "cell_type": "code",
   "execution_count": null,
   "metadata": {},
   "outputs": [],
   "source": []
  }
 ],
 "metadata": {
  "kernelspec": {
   "display_name": "Python 3 (ipykernel)",
   "language": "python",
   "name": "python3"
  },
  "language_info": {
   "codemirror_mode": {
    "name": "ipython",
    "version": 3
   },
   "file_extension": ".py",
   "mimetype": "text/x-python",
   "name": "python",
   "nbconvert_exporter": "python",
   "pygments_lexer": "ipython3",
   "version": "3.8.11"
  }
 },
 "nbformat": 4,
 "nbformat_minor": 4
}
