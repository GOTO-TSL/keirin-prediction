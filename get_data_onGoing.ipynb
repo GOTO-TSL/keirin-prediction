{
 "cells": [
  {
   "cell_type": "code",
   "execution_count": 29,
   "metadata": {},
   "outputs": [],
   "source": [
    "import pandas as pd\n",
    "from bs4 import BeautifulSoup\n",
    "import requests\n",
    "import time\n",
    "import tqdm.notebook as tqdm\n",
    "import datetime"
   ]
  },
  {
   "cell_type": "code",
   "execution_count": 30,
   "metadata": {},
   "outputs": [],
   "source": [
    "now = datetime.datetime.now()"
   ]
  },
  {
   "cell_type": "code",
   "execution_count": 31,
   "metadata": {},
   "outputs": [],
   "source": [
    "def createURL(year, month, day):\n",
    "    url = 'https://keirin.kdreams.jp/racecard/' + str(year) + \"/\" + str(month).zfill(2) + '/' + str(day).zfill(2) + '/'\n",
    "    return url"
   ]
  },
  {
   "cell_type": "code",
   "execution_count": 32,
   "metadata": {},
   "outputs": [],
   "source": [
    "source_url = [createURL(now.year, now.month, now.day)]"
   ]
  },
  {
   "cell_type": "code",
   "execution_count": 35,
   "metadata": {},
   "outputs": [],
   "source": [
    "def get_race_id(sourceURLs):\n",
    "    race_urls = {}\n",
    "    for sourceURL in tqdm.tqdm(sourceURLs):\n",
    "        try:\n",
    "            req = requests.get(sourceURL)\n",
    "            soup = BeautifulSoup(req.content, 'html.parser')\n",
    "            time.sleep(1)\n",
    "            race_html = soup.find_all('a', class_='JS_POST_THROW')\n",
    "            for html in race_html:\n",
    "                url = html.get('href')\n",
    "                if 'racedetail' in url:\n",
    "                    race_id = re.sub(r'\\D', '', url)\n",
    "                    race_urls[race_id] = url\n",
    "        except:\n",
    "            print(\"error\")\n",
    "            break\n",
    "    return race_urls"
   ]
  },
  {
   "cell_type": "code",
   "execution_count": 40,
   "metadata": {},
   "outputs": [
    {
     "data": {
      "application/vnd.jupyter.widget-view+json": {
       "model_id": "52f8786d1e2745d280ef1af6578ad536",
       "version_major": 2,
       "version_minor": 0
      },
      "text/plain": [
       "HBox(children=(HTML(value=''), FloatProgress(value=0.0, max=1.0), HTML(value='')))"
      ]
     },
     "metadata": {},
     "output_type": "display_data"
    },
    {
     "name": "stdout",
     "output_type": "stream",
     "text": [
      "\n"
     ]
    }
   ],
   "source": [
    "race_urls = get_race_id(source_url)"
   ]
  },
  {
   "cell_type": "code",
   "execution_count": 38,
   "metadata": {},
   "outputs": [],
   "source": [
    "main_colum = ['予想', '好気合', '総評', '枠番', '車番', '選手名府県/年齢/期別', '級班', '脚質', 'ギヤ倍数', '競走得点', '1着', '2着', '3着', '着外']"
   ]
  },
  {
   "cell_type": "code",
   "execution_count": 45,
   "metadata": {},
   "outputs": [],
   "source": [
    "def scrape_race_data(race_urls):\n",
    "    for race_id, url in tqdm.tqdm(race_urls.items()):\n",
    "        race_data = {}\n",
    "        try:\n",
    "            main = pd.read_html(url)\n",
    "            df = main[4][:-1]\n",
    "            df.columns = main_colum\n",
    "            df = df.astype(str)\n",
    "            race_data[race_id] = df\n",
    "            time.sleep(1)\n",
    "        except IndexError:\n",
    "            print('IndexError: {}', url)\n",
    "            continue\n",
    "        except KeyError:\n",
    "            print('keyerror: {}', url)\n",
    "            continue\n",
    "        except ValueError:\n",
    "            print(\"ValueError: {}\", url)\n",
    "            continue\n",
    "        except :\n",
    "            traceback.print_exc()\n",
    "            break\n",
    "    return race_data"
   ]
  },
  {
   "cell_type": "code",
   "execution_count": 46,
   "metadata": {},
   "outputs": [
    {
     "data": {
      "application/vnd.jupyter.widget-view+json": {
       "model_id": "1db884f5df9d4bc4b61859b232797557",
       "version_major": 2,
       "version_minor": 0
      },
      "text/plain": [
       "HBox(children=(HTML(value=''), FloatProgress(value=0.0, max=73.0), HTML(value='')))"
      ]
     },
     "metadata": {},
     "output_type": "display_data"
    },
    {
     "name": "stdout",
     "output_type": "stream",
     "text": [
      "\n"
     ]
    }
   ],
   "source": [
    "race_data = scrape_race_data(race_urls)"
   ]
  },
  {
   "cell_type": "code",
   "execution_count": 47,
   "metadata": {},
   "outputs": [],
   "source": [
    "for key in race_data.keys():\n",
    "    race_data[key].index = [key]*len(race_data[key])\n",
    "race_data = pd.concat([race_data[key] for key in race_data.keys()], sort=False)"
   ]
  },
  {
   "cell_type": "code",
   "execution_count": 49,
   "metadata": {},
   "outputs": [],
   "source": [
    "race_data.to_pickle(\"data/race_data_ongoing.pkl\")"
   ]
  },
  {
   "cell_type": "code",
   "execution_count": null,
   "metadata": {},
   "outputs": [],
   "source": []
  }
 ],
 "metadata": {
  "kernelspec": {
   "display_name": "Python 3",
   "language": "python",
   "name": "python3"
  },
  "language_info": {
   "codemirror_mode": {
    "name": "ipython",
    "version": 3
   },
   "file_extension": ".py",
   "mimetype": "text/x-python",
   "name": "python",
   "nbconvert_exporter": "python",
   "pygments_lexer": "ipython3",
   "version": "3.8.5"
  }
 },
 "nbformat": 4,
 "nbformat_minor": 4
}
