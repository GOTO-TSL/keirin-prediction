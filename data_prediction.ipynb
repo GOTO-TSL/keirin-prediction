{
 "cells": [
  {
   "cell_type": "code",
   "execution_count": 1,
   "metadata": {},
   "outputs": [],
   "source": [
    "from sklearn import datasets\n",
    "from sklearn.model_selection import train_test_split\n",
    "from keras.models import Sequential\n",
    "from keras.layers import Dense, Activation\n",
    "from keras.utils import np_utils\n",
    "import numpy as np\n",
    "import pandas as pd\n",
    "import matplotlib.pyplot as plt\n",
    "import random"
   ]
  },
  {
   "cell_type": "code",
   "execution_count": 2,
   "metadata": {},
   "outputs": [
    {
     "data": {
      "text/plain": [
       "57768"
      ]
     },
     "execution_count": 2,
     "metadata": {},
     "output_type": "execute_result"
    }
   ],
   "source": [
    "race_x = pd.read_pickle(\"data/race_x.pkl\").values\n",
    "race_y = pd.read_pickle(\"data/race_y.pkl\").values\n",
    "len(race_y)"
   ]
  },
  {
   "cell_type": "code",
   "execution_count": 3,
   "metadata": {},
   "outputs": [
    {
     "name": "stdout",
     "output_type": "stream",
     "text": [
      "29\n",
      "2\n"
     ]
    }
   ],
   "source": [
    "print(len(race_x[0]))\n",
    "print(len(race_y[0]))"
   ]
  },
  {
   "cell_type": "code",
   "execution_count": 4,
   "metadata": {},
   "outputs": [],
   "source": [
    "# split data into train and test\n",
    "x_train, x_test, y_train, y_test = train_test_split(race_x, race_y, train_size=0.7)"
   ]
  },
  {
   "cell_type": "code",
   "execution_count": 19,
   "metadata": {},
   "outputs": [],
   "source": [
    "def learningModel(dim_1, dim_2, dim_3, batch_size, epochs):\n",
    "    n_in = len(race_x[0])  # 入力層のニューロン数\n",
    "    n_out = len(race_y[0]) # 出力層のニューロン数\n",
    "\n",
    "    # 入力層、中間層、出力層の３層のニューラルネットワークを構築する\n",
    "    model = Sequential()\n",
    "\n",
    "    #中間層を追加する。最初に層を追加するときはinput_shapeを設定すること。\n",
    "    #input_shapeのところには形状を入れるため\n",
    "    # 活性化関数にシグモイド関数\n",
    "    model.add(Dense(dim_1, input_dim=n_in, activation=\"relu\"))\n",
    "    model.add(Dense(dim_2, input_dim=dim_1, activation=\"relu\"))\n",
    "    model.add(Dense(dim_3, input_dim=dim_2, activation=\"relu\"))\n",
    "\n",
    "    #出力層を追加する\n",
    "    model.add(Dense(n_out, activation=\"sigmoid\"))  \n",
    "\n",
    "    # 損失関数に二乗誤差、最適化アルゴリズムにAdamを使用する\n",
    "    model.compile(loss=\"binary_crossentropy\", optimizer=\"rmsprop\", metrics=['accuracy'])  \n",
    "\n",
    "    #学習開始\n",
    "    history = model.fit(x_train, y_train, batch_size=batch_size, epochs=epochs)\n",
    "    score = model.evaluate(x_test, y_test, batch_size=batch_size)\n",
    "    print(\"Test score\", score[0])\n",
    "    print(\"Test accuracy\", score[1])\n",
    "    return model, history, score"
   ]
  },
  {
   "cell_type": "code",
   "execution_count": 20,
   "metadata": {},
   "outputs": [
    {
     "name": "stdout",
     "output_type": "stream",
     "text": [
      "Epoch 1/20\n",
      "316/316 [==============================] - 0s 504us/step - loss: 0.7444 - accuracy: 0.6079\n",
      "Epoch 2/20\n",
      "316/316 [==============================] - 0s 485us/step - loss: 0.6386 - accuracy: 0.6368\n",
      "Epoch 3/20\n",
      "316/316 [==============================] - 0s 486us/step - loss: 0.6242 - accuracy: 0.6565\n",
      "Epoch 4/20\n",
      "316/316 [==============================] - 0s 485us/step - loss: 0.6105 - accuracy: 0.6713\n",
      "Epoch 5/20\n",
      "316/316 [==============================] - 0s 486us/step - loss: 0.6017 - accuracy: 0.6824\n",
      "Epoch 6/20\n",
      "316/316 [==============================] - 0s 489us/step - loss: 0.5984 - accuracy: 0.6862\n",
      "Epoch 7/20\n",
      "316/316 [==============================] - 0s 489us/step - loss: 0.5953 - accuracy: 0.6902\n",
      "Epoch 8/20\n",
      "316/316 [==============================] - 0s 489us/step - loss: 0.5926 - accuracy: 0.6891\n",
      "Epoch 9/20\n",
      "316/316 [==============================] - 0s 486us/step - loss: 0.5910 - accuracy: 0.6914\n",
      "Epoch 10/20\n",
      "316/316 [==============================] - 0s 495us/step - loss: 0.5910 - accuracy: 0.6934\n",
      "Epoch 11/20\n",
      "316/316 [==============================] - 0s 486us/step - loss: 0.5899 - accuracy: 0.6938\n",
      "Epoch 12/20\n",
      "316/316 [==============================] - 0s 486us/step - loss: 0.5891 - accuracy: 0.6934\n",
      "Epoch 13/20\n",
      "316/316 [==============================] - 0s 485us/step - loss: 0.5885 - accuracy: 0.6942\n",
      "Epoch 14/20\n",
      "316/316 [==============================] - 0s 489us/step - loss: 0.5886 - accuracy: 0.6945\n",
      "Epoch 15/20\n",
      "316/316 [==============================] - 0s 488us/step - loss: 0.5879 - accuracy: 0.6946\n",
      "Epoch 16/20\n",
      "316/316 [==============================] - 0s 489us/step - loss: 0.5875 - accuracy: 0.6946\n",
      "Epoch 17/20\n",
      "316/316 [==============================] - 0s 492us/step - loss: 0.5870 - accuracy: 0.6943\n",
      "Epoch 18/20\n",
      "316/316 [==============================] - 0s 492us/step - loss: 0.5860 - accuracy: 0.6949\n",
      "Epoch 19/20\n",
      "316/316 [==============================] - 0s 493us/step - loss: 0.5872 - accuracy: 0.6961\n",
      "Epoch 20/20\n",
      "316/316 [==============================] - 0s 489us/step - loss: 0.5861 - accuracy: 0.6940\n",
      "136/136 [==============================] - 0s 411us/step - loss: 0.5882 - accuracy: 0.6926\n",
      "Test score 0.588150143623352\n",
      "Test accuracy 0.6925740242004395\n"
     ]
    }
   ],
   "source": [
    "model, history, score = learningModel(20, 17, 19, 128, 20)"
   ]
  },
  {
   "cell_type": "code",
   "execution_count": 21,
   "metadata": {},
   "outputs": [
    {
     "data": {
      "text/plain": [
       "<matplotlib.legend.Legend at 0x21a3d3ec3a0>"
      ]
     },
     "execution_count": 21,
     "metadata": {},
     "output_type": "execute_result"
    },
    {
     "data": {
      "image/png": "[encoded data removed]",
      "text/plain": [
       "<Figure size 432x288 with 1 Axes>"
      ]
     },
     "metadata": {
      "needs_background": "light"
     },
     "output_type": "display_data"
    }
   ],
   "source": [
    "plt.plot(history.epoch, history.history[\"accuracy\"], label=\"acc\")\n",
    "plt.plot(history.epoch, history.history[\"loss\"], label=\"loss\")\n",
    "plt.xlabel(\"epoch\")\n",
    "plt.ylim(0.00, 1.00)\n",
    "plt.legend()"
   ]
  },
  {
   "cell_type": "code",
   "execution_count": 15,
   "metadata": {},
   "outputs": [
    {
     "name": "stdout",
     "output_type": "stream",
     "text": [
      "<class 'numpy.ndarray'>\n"
     ]
    }
   ],
   "source": [
    "print(type(x_train[1]))\n",
    "targets = x_train[6].tolist()\n",
    "prediction = model.predict([targets]).flatten()"
   ]
  },
  {
   "cell_type": "code",
   "execution_count": 16,
   "metadata": {},
   "outputs": [
    {
     "name": "stdout",
     "output_type": "stream",
     "text": [
      "[0.6037957 0.3950347]\n",
      "[2.0, 4.0, 2.0, 3.92, 100.06, 3.0, 3.0, 1.0, 6.0, 21.0, 117.0, 0.0, 0.0, 0.0, 1.0, 0.0, 0.0, 0.0, 0.0, 0.0, 0.0, 1.0, 0.0, 0.0, 0.0, 0.0, 0.0, 1.0, 0.0]\n"
     ]
    }
   ],
   "source": [
    "print(prediction)\n",
    "print(targets)"
   ]
  },
  {
   "cell_type": "code",
   "execution_count": null,
   "metadata": {},
   "outputs": [],
   "source": []
  }
 ],
 "metadata": {
  "kernelspec": {
   "display_name": "Python 3",
   "language": "python",
   "name": "python3"
  },
  "language_info": {
   "codemirror_mode": {
    "name": "ipython",
    "version": 3
   },
   "file_extension": ".py",
   "mimetype": "text/x-python",
   "name": "python",
   "nbconvert_exporter": "python",
   "pygments_lexer": "ipython3",
   "version": "3.8.5"
  }
 },
 "nbformat": 4,
 "nbformat_minor": 4
}
