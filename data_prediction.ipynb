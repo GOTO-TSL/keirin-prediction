{
 "cells": [
  {
   "cell_type": "code",
   "execution_count": 43,
   "metadata": {},
   "outputs": [],
   "source": [
    "from sklearn import datasets\n",
    "from sklearn.model_selection import train_test_split\n",
    "from keras.models import Sequential\n",
    "from keras.layers import Dense, Activation\n",
    "from keras.utils import np_utils\n",
    "import numpy as np\n",
    "import pandas as pd\n",
    "import matplotlib.pyplot as plt\n",
    "import random"
   ]
  },
  {
   "cell_type": "code",
   "execution_count": 44,
   "metadata": {},
   "outputs": [
    {
     "data": {
      "text/plain": [
       "57768"
      ]
     },
     "execution_count": 44,
     "metadata": {},
     "output_type": "execute_result"
    }
   ],
   "source": [
    "race_x = pd.read_pickle(\"data/race_x.pkl\").values\n",
    "race_y = pd.read_pickle(\"data/race_y.pkl\").values\n",
    "len(race_y)"
   ]
  },
  {
   "cell_type": "code",
   "execution_count": 45,
   "metadata": {},
   "outputs": [
    {
     "name": "stdout",
     "output_type": "stream",
     "text": [
      "29\n",
      "2\n"
     ]
    }
   ],
   "source": [
    "print(len(race_x[0]))\n",
    "print(len(race_y[0]))"
   ]
  },
  {
   "cell_type": "code",
   "execution_count": 46,
   "metadata": {},
   "outputs": [],
   "source": [
    "# split data into train and test\n",
    "x_train, x_test, y_train, y_test = train_test_split(race_x, race_y, train_size=0.7)"
   ]
  },
  {
   "cell_type": "code",
   "execution_count": 47,
   "metadata": {},
   "outputs": [],
   "source": [
    "def learningModel(dim1, dim2, dim3, batch_size, epochs):\n",
    "    n_in = len(race_x[0])  # 入力層のニューロン数\n",
    "    n_mid1 = dim1  # 中間層のニューロン数\n",
    "    n_mid2 = dim2\n",
    "    n_mid3 = dim3\n",
    "    n_out = len(race_y[0]) # 出力層のニューロン数\n",
    "\n",
    "    # 入力層、中間層、出力層の３層のニューラルネットワークを構築する\n",
    "    model = Sequential()\n",
    "\n",
    "    #中間層を追加する。最初に層を追加するときはinput_shapeを設定すること。\n",
    "    #input_shapeのところには形状を入れるため1\n",
    "    # 活性化関数にシグモイド関数\n",
    "    model.add(Dense(n_mid1, input_shape=(n_in,), activation=\"sigmoid\"))\n",
    "    model.add(Dense(n_mid2, input_shape=(n_mid1,), activation=\"sigmoid\"))\n",
    "    model.add(Dense(n_mid3, input_shape=(n_mid2,), activation=\"sigmoid\"))\n",
    "\n",
    "    #出力層を追加する\n",
    "    model.add(Dense(n_out, activation=\"linear\"))  \n",
    "\n",
    "    # 損失関数に二乗誤差、最適化アルゴリズムにSGDを使用する\n",
    "    model.compile(loss=\"mean_squared_error\", optimizer=\"adam\", metrics=['accuracy'])  \n",
    "\n",
    "    #学習開始\n",
    "    history = model.fit( x_train, y_train, batch_size=batch_size, epochs=epochs, validation_split=0.2, verbose=0)\n",
    "    score = model.evaluate(x_test, y_test, verbose=1)\n",
    "    print(\"Test score\", score[0])\n",
    "    print(\"Test accuracy\", score[1])\n",
    "    return model, history, score"
   ]
  },
  {
   "cell_type": "code",
   "execution_count": 48,
   "metadata": {},
   "outputs": [
    {
     "name": "stdout",
     "output_type": "stream",
     "text": [
      "542/542 [==============================] - 0s 360us/step - loss: 0.1990 - accuracy: 0.6972\n",
      "Test score 0.1989995241165161\n",
      "Test accuracy 0.6972476840019226\n"
     ]
    }
   ],
   "source": [
    "model, history, score = learningModel(20, 17, 19, 43, 150)"
   ]
  },
  {
   "cell_type": "code",
   "execution_count": 49,
   "metadata": {},
   "outputs": [
    {
     "data": {
      "text/plain": [
       "<matplotlib.legend.Legend at 0x1510bcedc70>"
      ]
     },
     "execution_count": 49,
     "metadata": {},
     "output_type": "execute_result"
    },
    {
     "data": {
      "image/png": "[encoded data removed]",
      "text/plain": [
       "<Figure size 432x288 with 1 Axes>"
      ]
     },
     "metadata": {
      "needs_background": "light"
     },
     "output_type": "display_data"
    }
   ],
   "source": [
    "plt.plot(history.epoch, history.history[\"accuracy\"], label=\"acc\")\n",
    "plt.plot(history.epoch, history.history[\"loss\"], label=\"loss\")\n",
    "plt.xlabel(\"epoch\")\n",
    "plt.ylim(0.00, 1.00)\n",
    "plt.legend()"
   ]
  },
  {
   "cell_type": "code",
   "execution_count": 50,
   "metadata": {},
   "outputs": [
    {
     "name": "stdout",
     "output_type": "stream",
     "text": [
      "<class 'numpy.ndarray'>\n"
     ]
    }
   ],
   "source": [
    "print(type(x_train[0]))\n",
    "targets = x_train[0].tolist()\n",
    "prediction = model.predict([targets]).flatten()"
   ]
  },
  {
   "cell_type": "code",
   "execution_count": 51,
   "metadata": {},
   "outputs": [
    {
     "name": "stdout",
     "output_type": "stream",
     "text": [
      "[0.8472596  0.14777872]\n",
      "[2.0, 5.0, 2.0, 3.77, 45.41, 1.0, 0.0, 2.0, 28.0, 21.0, 116.0, 0.0, 0.0, 0.0, 0.0, 0.0, 0.0, 1.0, 0.0, 1.0, 0.0, 0.0, 0.0, 0.0, 0.0, 1.0, 0.0, 0.0, 0.0]\n"
     ]
    }
   ],
   "source": [
    "print(prediction)\n",
    "print(targets)"
   ]
  },
  {
   "cell_type": "code",
   "execution_count": null,
   "metadata": {},
   "outputs": [],
   "source": []
  }
 ],
 "metadata": {
  "kernelspec": {
   "display_name": "Python 3",
   "language": "python",
   "name": "python3"
  },
  "language_info": {
   "codemirror_mode": {
    "name": "ipython",
    "version": 3
   },
   "file_extension": ".py",
   "mimetype": "text/x-python",
   "name": "python",
   "nbconvert_exporter": "python",
   "pygments_lexer": "ipython3",
   "version": "3.8.5"
  }
 },
 "nbformat": 4,
 "nbformat_minor": 4
}
