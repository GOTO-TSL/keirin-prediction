{
 "cells": [
  {
   "cell_type": "code",
   "execution_count": 1,
   "metadata": {},
   "outputs": [],
   "source": [
    "from sklearn.model_selection import train_test_split\n",
    "from keras.models import Sequential\n",
    "from keras.layers import Dense, Activation\n",
    "from keras.utils import np_utils\n",
    "import numpy as np\n",
    "import pandas as pd\n",
    "import matplotlib.pyplot as plt"
   ]
  },
  {
   "cell_type": "code",
   "execution_count": 2,
   "metadata": {},
   "outputs": [
    {
     "data": {
      "text/plain": [
       "57768"
      ]
     },
     "execution_count": 2,
     "metadata": {},
     "output_type": "execute_result"
    }
   ],
   "source": [
    "race_x = pd.read_pickle(\"data/race_x.pkl\").values\n",
    "race_y = pd.read_pickle(\"data/race_y.pkl\").values\n",
    "len(race_y)"
   ]
  },
  {
   "cell_type": "code",
   "execution_count": 3,
   "metadata": {},
   "outputs": [
    {
     "name": "stdout",
     "output_type": "stream",
     "text": [
      "29\n",
      "1.0\n"
     ]
    }
   ],
   "source": [
    "print(len(race_x[0]))\n",
    "print(race_y[0])"
   ]
  },
  {
   "cell_type": "code",
   "execution_count": 4,
   "metadata": {},
   "outputs": [],
   "source": [
    "# split data into train and test\n",
    "x_train, x_test, y_train, y_test = train_test_split(race_x, race_y, train_size=0.7)"
   ]
  },
  {
   "cell_type": "code",
   "execution_count": 5,
   "metadata": {},
   "outputs": [],
   "source": [
    "def learningModel(dim_1, dim_2, dim_3, batch_size, epochs):\n",
    "    n_in = len(race_x[0])  # 入力層のニューロン数：　特徴量の数\n",
    "    n_out = 1 # 出力層のニューロン数： 二値分類なので１\n",
    "\n",
    "    # 入力層、中間層、出力層の３層のニューラルネットワークを構築する\n",
    "    model = Sequential()\n",
    "\n",
    "    #中間層を追加する。最初に層を追加するときはinput_shapeを設定すること。\n",
    "    #input_shapeのところには形状を入れるため\n",
    "    # 活性化関数にrelu関数\n",
    "    model.add(Dense(dim_1, input_dim=n_in, activation=\"relu\"))\n",
    "    model.add(Dense(dim_2, input_dim=dim_1, activation=\"relu\"))\n",
    "    model.add(Dense(dim_3, input_dim=dim_2, activation=\"relu\"))\n",
    "\n",
    "    #出力層を追加する\n",
    "    model.add(Dense(n_out, activation=\"sigmoid\"))  \n",
    "\n",
    "    # 損失関数にクロスエントロピー誤差、最適化アルゴリズムにRMSpropを使用する\n",
    "    model.compile(loss=\"binary_crossentropy\", optimizer=\"rmsprop\", metrics=[\"accuracy\"])  \n",
    "\n",
    "    #学習開始\n",
    "    history = model.fit(x_train, y_train, batch_size=batch_size, epochs=epochs)\n",
    "    score, accuracy = model.evaluate(x_test, y_test, batch_size=batch_size)\n",
    "    print(\"Test score\", score)\n",
    "    print(\"Test accuracy\", accuracy)\n",
    "    return [model, history, score, accuracy]"
   ]
  },
  {
   "cell_type": "code",
   "execution_count": 6,
   "metadata": {},
   "outputs": [
    {
     "name": "stdout",
     "output_type": "stream",
     "text": [
      "Epoch 1/20\n",
      "316/316 [==============================] - 1s 491us/step - loss: 0.7382 - accuracy: 0.6076\n",
      "Epoch 2/20\n",
      "316/316 [==============================] - 0s 474us/step - loss: 0.6330 - accuracy: 0.6448\n",
      "Epoch 3/20\n",
      "316/316 [==============================] - 0s 470us/step - loss: 0.6190 - accuracy: 0.6628\n",
      "Epoch 4/20\n",
      "316/316 [==============================] - 0s 470us/step - loss: 0.6112 - accuracy: 0.6719\n",
      "Epoch 5/20\n",
      "316/316 [==============================] - 0s 472us/step - loss: 0.6051 - accuracy: 0.6801\n",
      "Epoch 6/20\n",
      "316/316 [==============================] - 0s 471us/step - loss: 0.6024 - accuracy: 0.6833\n",
      "Epoch 7/20\n",
      "316/316 [==============================] - 0s 477us/step - loss: 0.6004 - accuracy: 0.6843\n",
      "Epoch 8/20\n",
      "316/316 [==============================] - 0s 480us/step - loss: 0.5986 - accuracy: 0.6860\n",
      "Epoch 9/20\n",
      "316/316 [==============================] - 0s 473us/step - loss: 0.5965 - accuracy: 0.6888\n",
      "Epoch 10/20\n",
      "316/316 [==============================] - 0s 477us/step - loss: 0.5967 - accuracy: 0.6873\n",
      "Epoch 11/20\n",
      "316/316 [==============================] - 0s 473us/step - loss: 0.5953 - accuracy: 0.6861\n",
      "Epoch 12/20\n",
      "316/316 [==============================] - 0s 476us/step - loss: 0.5952 - accuracy: 0.6864\n",
      "Epoch 13/20\n",
      "316/316 [==============================] - 0s 480us/step - loss: 0.5937 - accuracy: 0.6880\n",
      "Epoch 14/20\n",
      "316/316 [==============================] - 0s 486us/step - loss: 0.5927 - accuracy: 0.6906\n",
      "Epoch 15/20\n",
      "316/316 [==============================] - 0s 483us/step - loss: 0.5927 - accuracy: 0.6886\n",
      "Epoch 16/20\n",
      "316/316 [==============================] - 0s 483us/step - loss: 0.5932 - accuracy: 0.6881\n",
      "Epoch 17/20\n",
      "316/316 [==============================] - 0s 480us/step - loss: 0.5920 - accuracy: 0.6909\n",
      "Epoch 18/20\n",
      "316/316 [==============================] - 0s 479us/step - loss: 0.5912 - accuracy: 0.6906\n",
      "Epoch 19/20\n",
      "316/316 [==============================] - 0s 480us/step - loss: 0.5915 - accuracy: 0.6897\n",
      "Epoch 20/20\n",
      "316/316 [==============================] - 0s 477us/step - loss: 0.5909 - accuracy: 0.6904\n",
      "136/136 [==============================] - 0s 385us/step - loss: 0.5787 - accuracy: 0.7022\n",
      "Test score 0.5787033438682556\n",
      "Test accuracy 0.7021521925926208\n"
     ]
    }
   ],
   "source": [
    "model, history, score, accuracy = learningModel(20, 17, 19, 128, 20)"
   ]
  },
  {
   "cell_type": "code",
   "execution_count": 7,
   "metadata": {},
   "outputs": [],
   "source": [
    "def plot_history(history):\n",
    "    #精度の履歴をプロット\n",
    "    plt.plot(history.history[\"accuracy\"], \"o-\", label=\"acc\")\n",
    "    plt.title(\"model_accuracy\")\n",
    "    plt.xlabel(\"epoch\")\n",
    "    plt.ylabel(\"accuracy\")\n",
    "    plt.legend(loc=\"lower right\")\n",
    "    plt.show()\n",
    "    \n",
    "    #損失の履歴をプロット\n",
    "    plt.plot(history.history[\"loss\"], \"o-\", label=\"loss\")\n",
    "    plt.title(\"model_loss\")\n",
    "    plt.xlabel(\"epoch\")\n",
    "    plt.ylabel(\"loss\")\n",
    "    plt.legend(loc=\"lower right\")\n",
    "    plt.show()"
   ]
  },
  {
   "cell_type": "code",
   "execution_count": 8,
   "metadata": {},
   "outputs": [
    {
     "data": {
      "image/png": "[encoded data removed]",
      "text/plain": [
       "<Figure size 432x288 with 1 Axes>"
      ]
     },
     "metadata": {
      "needs_background": "light"
     },
     "output_type": "display_data"
    },
    {
     "data": {
      "image/png": "[encoded data removed]",
      "text/plain": [
       "<Figure size 432x288 with 1 Axes>"
      ]
     },
     "metadata": {
      "needs_background": "light"
     },
     "output_type": "display_data"
    }
   ],
   "source": [
    "plot_history(history)"
   ]
  },
  {
   "cell_type": "code",
   "execution_count": 9,
   "metadata": {},
   "outputs": [
    {
     "name": "stdout",
     "output_type": "stream",
     "text": [
      "[0.7516227]\n"
     ]
    }
   ],
   "source": [
    "y_pred = model.predict(x_test)\n",
    "print(y_pred[0])"
   ]
  },
  {
   "cell_type": "code",
   "execution_count": 10,
   "metadata": {},
   "outputs": [],
   "source": [
    "#予測値を二値に変換する関数\n",
    "def toBinary(x):\n",
    "    if x >= 0.50:\n",
    "        x = 1\n",
    "    else:\n",
    "        x = 0\n",
    "    return x"
   ]
  },
  {
   "cell_type": "code",
   "execution_count": 11,
   "metadata": {},
   "outputs": [],
   "source": [
    "y_pred = np.apply_along_axis(lambda x: toBinary(x), 1, y_pred)"
   ]
  },
  {
   "cell_type": "code",
   "execution_count": 13,
   "metadata": {},
   "outputs": [
    {
     "name": "stdout",
     "output_type": "stream",
     "text": [
      "<function confusion_matrix at 0x0000028162F4EDC0>\n",
      "Precision: 0.6750793192962216\n",
      "Recall 0.6167325428194993\n",
      "F1Score 0.6445882676948499\n"
     ]
    },
    {
     "data": {
      "text/plain": [
       "array([[7488, 2253],\n",
       "       [2909, 4681]], dtype=int64)"
      ]
     },
     "execution_count": 13,
     "metadata": {},
     "output_type": "execute_result"
    }
   ],
   "source": [
    "#混同行列を見てみる\n",
    "from sklearn.metrics import confusion_matrix, precision_score, recall_score, f1_score\n",
    "confusion_matrix(y_test, y_pred)\n",
    "precision = precision_score(y_test, y_pred)\n",
    "recall = recall_score(y_test, y_pred)\n",
    "f1 = f1_score(y_test, y_pred)\n",
    "print(confusion_matrix)\n",
    "print(\"Precision:\", precision)\n",
    "print(\"Recall\", recall)\n",
    "print(\"F1Score\", f1)\n",
    "confusion_matrix(y_test, y_pred)"
   ]
  },
  {
   "cell_type": "code",
   "execution_count": 14,
   "metadata": {},
   "outputs": [
    {
     "name": "stdout",
     "output_type": "stream",
     "text": [
      "INFO:tensorflow:Assets written to: pred_top3\\assets\n"
     ]
    }
   ],
   "source": [
    "#学習モデルを保存\n",
    "model.save(\"pred_top3\")"
   ]
  },
  {
   "cell_type": "code",
   "execution_count": null,
   "metadata": {},
   "outputs": [],
   "source": []
  }
 ],
 "metadata": {
  "kernelspec": {
   "display_name": "Python 3 (ipykernel)",
   "language": "python",
   "name": "python3"
  },
  "language_info": {
   "codemirror_mode": {
    "name": "ipython",
    "version": 3
   },
   "file_extension": ".py",
   "mimetype": "text/x-python",
   "name": "python",
   "nbconvert_exporter": "python",
   "pygments_lexer": "ipython3",
   "version": "3.8.11"
  }
 },
 "nbformat": 4,
 "nbformat_minor": 4
}
