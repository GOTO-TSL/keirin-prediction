{
 "cells": [
  {
   "cell_type": "code",
   "execution_count": 90,
   "metadata": {},
   "outputs": [],
   "source": [
    "from sklearn import datasets\n",
    "from sklearn.model_selection import train_test_split\n",
    "from keras.models import Sequential\n",
    "from keras.layers import Dense, Activation\n",
    "from keras.utils import np_utils\n",
    "import numpy as np\n",
    "import pandas as pd\n",
    "import matplotlib.pyplot as plt\n",
    "import random"
   ]
  },
  {
   "cell_type": "code",
   "execution_count": 96,
   "metadata": {},
   "outputs": [
    {
     "data": {
      "text/plain": [
       "15446"
      ]
     },
     "execution_count": 96,
     "metadata": {},
     "output_type": "execute_result"
    }
   ],
   "source": [
    "race_x = pd.read_pickle(\"race_x.pkl\").values\n",
    "race_y = pd.read_pickle(\"race_y.pkl\").values\n",
    "len(race_y)"
   ]
  },
  {
   "cell_type": "code",
   "execution_count": 97,
   "metadata": {},
   "outputs": [],
   "source": [
    "# split data into train and test\n",
    "x_train, x_test, y_train, y_test = train_test_split(race_x, race_y, train_size=0.7)"
   ]
  },
  {
   "cell_type": "code",
   "execution_count": 198,
   "metadata": {},
   "outputs": [],
   "source": [
    "def learningModel(dim1, dim2, dim3, batch_size, epochs):\n",
    "    n_in = 28  # 入力層のニューロン数\n",
    "    n_mid1 = dim1  # 中間層のニューロン数\n",
    "    n_mid2 = dim2\n",
    "    n_mid3 = dim3\n",
    "    n_out = 8 # 出力層のニューロン数\n",
    "\n",
    "    # 入力層、中間層、出力層の３層のニューラルネットワークを構築する\n",
    "    model = Sequential()\n",
    "\n",
    "    #中間層を追加する。最初に層を追加するときはinput_shapeを設定すること。\n",
    "    #input_shapeのところには形状を入れるため1\n",
    "    # 活性化関数にシグモイド関数\n",
    "    model.add(Dense(n_mid1, input_shape=(n_in,), activation=\"sigmoid\"))\n",
    "    model.add(Dense(n_mid2, input_shape=(n_mid1,), activation=\"sigmoid\"))\n",
    "    model.add(Dense(n_mid3, input_shape=(n_mid2,), activation=\"sigmoid\"))\n",
    "\n",
    "    #出力層を追加する\n",
    "    model.add(Dense(n_out, activation=\"linear\"))  \n",
    "\n",
    "    # 損失関数に二乗誤差、最適化アルゴリズムにSGDを使用する\n",
    "    model.compile(loss=\"mean_squared_error\", optimizer=\"adam\", metrics=['accuracy'])  \n",
    "\n",
    "    #学習開始\n",
    "    history = model.fit( x_train, y_train, batch_size=batch_size, epochs=epochs, validation_split=0.2, verbose=0)\n",
    "    score = model.evaluate(x_test, y_test, verbose=1)\n",
    "    print(\"Test score\", score[0])\n",
    "    print(\"Test accuracy\", score[1])\n",
    "    return history, score"
   ]
  },
  {
   "cell_type": "code",
   "execution_count": 199,
   "metadata": {},
   "outputs": [
    {
     "name": "stdout",
     "output_type": "stream",
     "text": [
      "145/145 [==============================] - 0s 735us/step - loss: 0.1018 - accuracy: 0.2693\n",
      "Test score 0.10175443440675735\n",
      "Test accuracy 0.269313782453537\n"
     ]
    }
   ],
   "source": [
    "history, score = learningModel(20, 17, 19, 43, 150)"
   ]
  },
  {
   "cell_type": "code",
   "execution_count": 200,
   "metadata": {},
   "outputs": [
    {
     "data": {
      "text/plain": [
       "<matplotlib.legend.Legend at 0x7fb4a17013a0>"
      ]
     },
     "execution_count": 200,
     "metadata": {},
     "output_type": "execute_result"
    },
    {
     "data": {
      "image/png": "[encoded data removed]",
      "text/plain": [
       "<Figure size 432x288 with 1 Axes>"
      ]
     },
     "metadata": {
      "needs_background": "light"
     },
     "output_type": "display_data"
    }
   ],
   "source": [
    "plt.plot(history.epoch, history.history[\"accuracy\"], label=\"acc\")\n",
    "plt.plot(history.epoch, history.history[\"loss\"], label=\"loss\")\n",
    "plt.xlabel(\"epoch\")\n",
    "plt.ylim(0.00, 0.50)\n",
    "plt.legend()"
   ]
  },
  {
   "cell_type": "code",
   "execution_count": 107,
   "metadata": {},
   "outputs": [
    {
     "name": "stdout",
     "output_type": "stream",
     "text": [
      "<class 'numpy.ndarray'>\n"
     ]
    }
   ],
   "source": [
    "print(type(x_train[0]))\n",
    "targets = x_train[0].tolist()\n",
    "prediction = model.predict([targets]).flatten()"
   ]
  },
  {
   "cell_type": "code",
   "execution_count": 108,
   "metadata": {},
   "outputs": [
    {
     "name": "stdout",
     "output_type": "stream",
     "text": [
      "[0.01374435 0.131319   0.12385494 0.14129187 0.14866775 0.15439036\n",
      " 0.15613803 0.13270487]\n",
      "[7.0, 2.0, 3.0, 6.0, 3.92, 87.75, 7.0, 3.0, 1.0, 10.0, 33.0, 92.0, 0.0, 1.0, 0.0, 0.0, 0.0, 0.0, 0.0, 1.0, 0.0, 0.0, 0.0, 0.0, 0.0, 0.0, 0.0, 1.0]\n"
     ]
    }
   ],
   "source": [
    "print(prediction)\n",
    "print(targets)"
   ]
  },
  {
   "cell_type": "code",
   "execution_count": null,
   "metadata": {},
   "outputs": [],
   "source": []
  }
 ],
 "metadata": {
  "kernelspec": {
   "display_name": "Python 3",
   "language": "python",
   "name": "python3"
  },
  "language_info": {
   "codemirror_mode": {
    "name": "ipython",
    "version": 3
   },
   "file_extension": ".py",
   "mimetype": "text/x-python",
   "name": "python",
   "nbconvert_exporter": "python",
   "pygments_lexer": "ipython3",
   "version": "3.8.5"
  }
 },
 "nbformat": 4,
 "nbformat_minor": 4
}
