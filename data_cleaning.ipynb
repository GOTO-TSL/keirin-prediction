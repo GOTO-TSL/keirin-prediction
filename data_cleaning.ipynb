{
 "cells": [
  {
   "cell_type": "code",
   "execution_count": 182,
   "metadata": {},
   "outputs": [],
   "source": [
    "import pandas as pd"
   ]
  },
  {
   "cell_type": "code",
   "execution_count": 183,
   "metadata": {},
   "outputs": [],
   "source": [
    "race_data = pd.read_pickle(\"data/race_data.pkl\")"
   ]
  },
  {
   "cell_type": "code",
   "execution_count": 184,
   "metadata": {},
   "outputs": [],
   "source": [
    "race_data = pd.concat([race_data, race_data[\"選手名府県/年齢/期別\"].str.split(\"/\", expand=True)], axis=1).drop(\"選手名府県/年齢/期別\", axis=1)\n",
    "race_data = race_data.drop(0, axis=1)"
   ]
  },
  {
   "cell_type": "code",
   "execution_count": 185,
   "metadata": {},
   "outputs": [],
   "source": [
    "prediction = pd.get_dummies(race_data[\"予想\"])\n",
    "isFine = pd.get_dummies(race_data[\"好気合\"], drop_first=True)\n",
    "leg_type = pd.get_dummies(race_data[\"脚質\"])\n",
    "group = pd.get_dummies(race_data[\"級班\"])\n",
    "race_data = pd.concat([race_data, prediction, isFine, leg_type, group], axis=1).drop([\"予想\", \"好気合\", \"脚質\", \"級班\"], axis=1)"
   ]
  },
  {
   "cell_type": "code",
   "execution_count": 186,
   "metadata": {},
   "outputs": [],
   "source": [
    "race_data = race_data.replace([\"失\", \"落\", \"故\", \"欠\"], 9)\n",
    "race_data[\"ギヤ倍数\"] = race_data[\"ギヤ倍数\"].map(lambda x: x[:4] if len(x)>4 else x)\n",
    "race_data[2] = race_data[2].map(lambda x: x.replace(\" （欠車）\", \"\") if \"欠車\"in x else x)\n",
    "race_data[\"着順\"] = race_data[\"着順\"].map(lambda x: 1 if x in [\"1\", \"2\", \"3\"] else 0)\n",
    "race_data = race_data.astype(\"float64\")"
   ]
  },
  {
   "cell_type": "code",
   "execution_count": 188,
   "metadata": {},
   "outputs": [],
   "source": [
    "race_y = race_data['着順']\n",
    "race_x = race_data.drop('着順', axis=1)\n",
    "race_y = pd.get_dummies(race_y)"
   ]
  },
  {
   "cell_type": "code",
   "execution_count": 189,
   "metadata": {},
   "outputs": [],
   "source": [
    "race_x.to_pickle(\"data/race_x.pkl\")\n",
    "race_y.to_pickle(\"data/race_y.pkl\")"
   ]
  },
  {
   "cell_type": "code",
   "execution_count": null,
   "metadata": {},
   "outputs": [],
   "source": []
  }
 ],
 "metadata": {
  "kernelspec": {
   "display_name": "Python 3",
   "language": "python",
   "name": "python3"
  },
  "language_info": {
   "codemirror_mode": {
    "name": "ipython",
    "version": 3
   },
   "file_extension": ".py",
   "mimetype": "text/x-python",
   "name": "python",
   "nbconvert_exporter": "python",
   "pygments_lexer": "ipython3",
   "version": "3.8.5"
  }
 },
 "nbformat": 4,
 "nbformat_minor": 4
}
