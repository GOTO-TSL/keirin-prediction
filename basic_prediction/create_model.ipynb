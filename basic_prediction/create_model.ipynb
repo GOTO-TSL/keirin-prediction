{
 "cells": [
  {
   "cell_type": "markdown",
   "metadata": {},
   "source": [
    "## 学習モデル作成，学習"
   ]
  },
  {
   "cell_type": "code",
   "execution_count": 2,
   "metadata": {},
   "outputs": [],
   "source": [
    "from sklearn.model_selection import train_test_split\n",
    "from keras.models import Sequential\n",
    "from keras.layers import Dense, Activation\n",
    "from keras.utils import np_utils\n",
    "import numpy as np\n",
    "import pandas as pd\n",
    "import matplotlib.pyplot as plt"
   ]
  },
  {
   "cell_type": "markdown",
   "metadata": {},
   "source": [
    "### 学習データとテストデータに分割"
   ]
  },
  {
   "cell_type": "code",
   "execution_count": null,
   "metadata": {},
   "outputs": [
    {
     "data": {
      "text/plain": [
       "57768"
      ]
     },
     "execution_count": 3,
     "metadata": {},
     "output_type": "execute_result"
    }
   ],
   "source": [
    "race_x = pd.read_pickle(\"data/race_x.pkl\").values\n",
    "race_y = pd.read_pickle(\"data/race_y.pkl\").values\n",
    "len(race_y)"
   ]
  },
  {
   "cell_type": "code",
   "execution_count": null,
   "metadata": {},
   "outputs": [
    {
     "name": "stdout",
     "output_type": "stream",
     "text": [
      "29\n",
      "1.0\n"
     ]
    }
   ],
   "source": [
    "print(len(race_x[0]))\n",
    "print(race_y[0])"
   ]
  },
  {
   "cell_type": "code",
   "execution_count": null,
   "metadata": {},
   "outputs": [],
   "source": [
    "# split data into train and test\n",
    "x_train, x_test, y_train, y_test = train_test_split(race_x, race_y, train_size=0.7)"
   ]
  },
  {
   "cell_type": "markdown",
   "metadata": {},
   "source": [
    "### 学習モデル作成(多層パーセプトロン，relu関数，クロスエントロピー誤差)"
   ]
  },
  {
   "cell_type": "code",
   "execution_count": null,
   "metadata": {},
   "outputs": [],
   "source": [
    "def learningModel(dim_1, dim_2, dim_3, batch_size, epochs):\n",
    "    n_in = len(race_x[0])  # 入力層のニューロン数：　特徴量の数\n",
    "    n_out = 1 # 出力層のニューロン数： 二値分類なので１\n",
    "\n",
    "    # 入力層、中間層、出力層の３層のニューラルネットワークを構築する\n",
    "    model = Sequential()\n",
    "\n",
    "    #中間層を追加する。最初に層を追加するときはinput_shapeを設定すること。\n",
    "    #input_shapeのところには形状を入れるため\n",
    "    # 活性化関数にrelu関数\n",
    "    model.add(Dense(dim_1, input_dim=n_in, activation=\"relu\"))\n",
    "    model.add(Dense(dim_2, input_dim=dim_1, activation=\"relu\"))\n",
    "    model.add(Dense(dim_3, input_dim=dim_2, activation=\"relu\"))\n",
    "\n",
    "    #出力層を追加する\n",
    "    model.add(Dense(n_out, activation=\"sigmoid\"))  \n",
    "\n",
    "    # 損失関数にクロスエントロピー誤差、最適化アルゴリズムにRMSpropを使用する\n",
    "    model.compile(loss=\"binary_crossentropy\", optimizer=\"rmsprop\", metrics=[\"accuracy\"])  \n",
    "\n",
    "    #学習開始\n",
    "    history = model.fit(x_train, y_train, batch_size=batch_size, epochs=epochs)\n",
    "    score, accuracy = model.evaluate(x_test, y_test, batch_size=batch_size)\n",
    "    print(\"Test score\", score)\n",
    "    print(\"Test accuracy\", accuracy)\n",
    "    return [model, history, score, accuracy]"
   ]
  },
  {
   "cell_type": "markdown",
   "metadata": {},
   "source": [
    "### 学習(バッチサイズ128, エポック数20)"
   ]
  },
  {
   "cell_type": "code",
   "execution_count": null,
   "metadata": {},
   "outputs": [
    {
     "name": "stderr",
     "output_type": "stream",
     "text": [
      "2021-09-12 22:14:00.733886: I tensorflow/core/platform/cpu_feature_guard.cc:142] This TensorFlow binary is optimized with oneAPI Deep Neural Network Library (oneDNN) to use the following CPU instructions in performance-critical operations:  AVX2 FMA\n",
      "To enable them in other operations, rebuild TensorFlow with the appropriate compiler flags.\n",
      "2021-09-12 22:14:00.821922: I tensorflow/compiler/mlir/mlir_graph_optimization_pass.cc:185] None of the MLIR Optimization Passes are enabled (registered 2)\n"
     ]
    },
    {
     "name": "stdout",
     "output_type": "stream",
     "text": [
      "Epoch 1/20\n",
      "316/316 [==============================] - 1s 889us/step - loss: 0.6121 - accuracy: 0.6767\n",
      "Epoch 2/20\n",
      "316/316 [==============================] - 0s 778us/step - loss: 0.5865 - accuracy: 0.6957\n",
      "Epoch 3/20\n",
      "316/316 [==============================] - 0s 754us/step - loss: 0.5849 - accuracy: 0.6973\n",
      "Epoch 4/20\n",
      "316/316 [==============================] - 0s 745us/step - loss: 0.5841 - accuracy: 0.6981\n",
      "Epoch 5/20\n",
      "316/316 [==============================] - 0s 735us/step - loss: 0.5837 - accuracy: 0.6966\n",
      "Epoch 6/20\n",
      "316/316 [==============================] - 0s 740us/step - loss: 0.5836 - accuracy: 0.6966\n",
      "Epoch 7/20\n",
      "316/316 [==============================] - 0s 743us/step - loss: 0.5835 - accuracy: 0.6973\n",
      "Epoch 8/20\n",
      "316/316 [==============================] - 0s 741us/step - loss: 0.5830 - accuracy: 0.6967\n",
      "Epoch 9/20\n",
      "316/316 [==============================] - 0s 826us/step - loss: 0.5827 - accuracy: 0.6980\n",
      "Epoch 10/20\n",
      "316/316 [==============================] - 0s 747us/step - loss: 0.5826 - accuracy: 0.6971\n",
      "Epoch 11/20\n",
      "316/316 [==============================] - 0s 724us/step - loss: 0.5826 - accuracy: 0.6976\n",
      "Epoch 12/20\n",
      "316/316 [==============================] - 0s 742us/step - loss: 0.5823 - accuracy: 0.6972\n",
      "Epoch 13/20\n",
      "316/316 [==============================] - 0s 738us/step - loss: 0.5823 - accuracy: 0.6984\n",
      "Epoch 14/20\n",
      "316/316 [==============================] - 0s 739us/step - loss: 0.5820 - accuracy: 0.6986\n",
      "Epoch 15/20\n",
      "316/316 [==============================] - 0s 765us/step - loss: 0.5814 - accuracy: 0.6989\n",
      "Epoch 16/20\n",
      "316/316 [==============================] - 0s 737us/step - loss: 0.5816 - accuracy: 0.6980\n",
      "Epoch 17/20\n",
      "316/316 [==============================] - 0s 739us/step - loss: 0.5816 - accuracy: 0.6963\n",
      "Epoch 18/20\n",
      "316/316 [==============================] - 0s 731us/step - loss: 0.5816 - accuracy: 0.6989\n",
      "Epoch 19/20\n",
      "316/316 [==============================] - 0s 743us/step - loss: 0.5812 - accuracy: 0.6987\n",
      "Epoch 20/20\n",
      "316/316 [==============================] - 0s 775us/step - loss: 0.5813 - accuracy: 0.6986\n",
      "136/136 [==============================] - 0s 589us/step - loss: 0.5859 - accuracy: 0.6941\n",
      "Test score 0.585915744304657\n",
      "Test accuracy 0.6941319108009338\n"
     ]
    }
   ],
   "source": [
    "model, history, score, accuracy = learningModel(20, 11, 6, 128, 20)"
   ]
  },
  {
   "cell_type": "markdown",
   "metadata": {},
   "source": [
    "### 結果をプロット(精度とloss)"
   ]
  },
  {
   "cell_type": "code",
   "execution_count": null,
   "metadata": {},
   "outputs": [],
   "source": [
    "def plot_history(history):\n",
    "    #精度の履歴をプロット\n",
    "    plt.plot(history.history[\"accuracy\"], \"o-\", label=\"acc\")\n",
    "    plt.title(\"model_accuracy\")\n",
    "    plt.xlabel(\"epoch\")\n",
    "    plt.ylabel(\"accuracy\")\n",
    "    plt.legend(loc=\"lower right\")\n",
    "    plt.show()\n",
    "    \n",
    "    #損失の履歴をプロット\n",
    "    plt.plot(history.history[\"loss\"], \"o-\", label=\"loss\")\n",
    "    plt.title(\"model_loss\")\n",
    "    plt.xlabel(\"epoch\")\n",
    "    plt.ylabel(\"loss\")\n",
    "    plt.legend(loc=\"lower right\")\n",
    "    plt.show()"
   ]
  },
  {
   "cell_type": "code",
   "execution_count": null,
   "metadata": {},
   "outputs": [
    {
     "data": {
      "image/png": "[encoded data removed]",
      "text/plain": [
       "<Figure size 432x288 with 1 Axes>"
      ]
     },
     "metadata": {
      "needs_background": "light"
     },
     "output_type": "display_data"
    },
    {
     "data": {
      "image/png": "[encoded data removed]",
      "text/plain": [
       "<Figure size 432x288 with 1 Axes>"
      ]
     },
     "metadata": {
      "needs_background": "light"
     },
     "output_type": "display_data"
    }
   ],
   "source": [
    "plot_history(history)"
   ]
  },
  {
   "cell_type": "code",
   "execution_count": null,
   "metadata": {},
   "outputs": [
    {
     "name": "stdout",
     "output_type": "stream",
     "text": [
      "[0.3608383]\n"
     ]
    }
   ],
   "source": [
    "y_pred = model.predict(x_test)\n",
    "print(y_pred[0])"
   ]
  },
  {
   "cell_type": "code",
   "execution_count": null,
   "metadata": {},
   "outputs": [],
   "source": [
    "#予測値を二値に変換する関数\n",
    "def toBinary(x):\n",
    "    if x >= 0.50:\n",
    "        x = 1\n",
    "    else:\n",
    "        x = 0\n",
    "    return x"
   ]
  },
  {
   "cell_type": "code",
   "execution_count": null,
   "metadata": {},
   "outputs": [],
   "source": [
    "y_pred = np.apply_along_axis(lambda x: toBinary(x), 1, y_pred)"
   ]
  },
  {
   "cell_type": "markdown",
   "metadata": {},
   "source": [
    "### 各評価指標による評価（適合率，再現率，F1スコア，混同行列）"
   ]
  },
  {
   "cell_type": "code",
   "execution_count": null,
   "metadata": {},
   "outputs": [
    {
     "name": "stdout",
     "output_type": "stream",
     "text": [
      "<function confusion_matrix at 0x7f84cb3eb430>\n",
      "Precision: 0.6785603475023271\n",
      "Recall 0.57529922399053\n",
      "F1Score 0.6226777706598334\n"
     ]
    },
    {
     "data": {
      "text/plain": [
       "array([[7656, 2072],\n",
       "       [3229, 4374]])"
      ]
     },
     "execution_count": 13,
     "metadata": {},
     "output_type": "execute_result"
    }
   ],
   "source": [
    "#混同行列を見てみる\n",
    "from sklearn.metrics import confusion_matrix, precision_score, recall_score, f1_score\n",
    "confusion_matrix(y_test, y_pred)\n",
    "precision = precision_score(y_test, y_pred)\n",
    "recall = recall_score(y_test, y_pred)\n",
    "f1 = f1_score(y_test, y_pred)\n",
    "print(confusion_matrix)\n",
    "print(\"Precision:\", precision)\n",
    "print(\"Recall\", recall)\n",
    "print(\"F1Score\", f1)\n",
    "confusion_matrix(y_test, y_pred)"
   ]
  },
  {
   "cell_type": "markdown",
   "metadata": {},
   "source": [
    "### 学習済みモデルを保存"
   ]
  },
  {
   "cell_type": "code",
   "execution_count": null,
   "metadata": {},
   "outputs": [
    {
     "name": "stdout",
     "output_type": "stream",
     "text": [
      "INFO:tensorflow:Assets written to: pred_top3\\assets\n"
     ]
    }
   ],
   "source": [
    "#学習モデルを保存\n",
    "model.save(\"pred_top3\")"
   ]
  },
  {
   "cell_type": "code",
   "execution_count": null,
   "metadata": {},
   "outputs": [],
   "source": []
  }
 ],
 "metadata": {
  "kernelspec": {
   "display_name": "Python 3 (ipykernel)",
   "language": "python",
   "name": "python3"
  },
  "language_info": {
   "codemirror_mode": {
    "name": "ipython",
    "version": 3
   },
   "file_extension": ".py",
   "mimetype": "text/x-python",
   "name": "python",
   "nbconvert_exporter": "python",
   "pygments_lexer": "ipython3",
   "version": "3.7.9"
  }
 },
 "nbformat": 4,
 "nbformat_minor": 4
}
